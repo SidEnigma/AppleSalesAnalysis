{
 "cells": [
  {
   "cell_type": "code",
   "execution_count": 0,
   "metadata": {
    "application/vnd.databricks.v1+cell": {
     "cellMetadata": {
      "byteLimit": 2048000,
      "rowLimit": 10000
     },
     "inputWidgets": {},
     "nuid": "6f82dbdd-b0ef-4b34-8729-85958e51df61",
     "showTitle": false,
     "title": ""
    }
   },
   "outputs": [],
   "source": [
    "%run \"./transform\""
   ]
  },
  {
   "cell_type": "code",
   "execution_count": 0,
   "metadata": {
    "application/vnd.databricks.v1+cell": {
     "cellMetadata": {
      "byteLimit": 2048000,
      "rowLimit": 10000
     },
     "inputWidgets": {},
     "nuid": "9287160a-6bb5-4ec8-a906-8b0901cebf21",
     "showTitle": false,
     "title": ""
    }
   },
   "outputs": [],
   "source": [
    "%run \"./extract\""
   ]
  },
  {
   "cell_type": "code",
   "execution_count": 0,
   "metadata": {
    "application/vnd.databricks.v1+cell": {
     "cellMetadata": {
      "byteLimit": 2048000,
      "rowLimit": 10000
     },
     "inputWidgets": {},
     "nuid": "1b09969a-8322-4d69-94ed-42ef387154a8",
     "showTitle": false,
     "title": ""
    }
   },
   "outputs": [],
   "source": [
    "%run \"./load\""
   ]
  },
  {
   "cell_type": "code",
   "execution_count": 0,
   "metadata": {
    "application/vnd.databricks.v1+cell": {
     "cellMetadata": {
      "byteLimit": 2048000,
      "rowLimit": 10000
     },
     "inputWidgets": {},
     "nuid": "492789ad-5344-4172-8eaf-4dfed8d8eae9",
     "showTitle": false,
     "title": ""
    }
   },
   "outputs": [],
   "source": [
    "# Creating folder 'output' to store results\n",
    "# dbutils.fs.mkdirs(\"dbfs:/FileStore/tables/output\")"
   ]
  },
  {
   "cell_type": "code",
   "execution_count": 0,
   "metadata": {
    "application/vnd.databricks.v1+cell": {
     "cellMetadata": {
      "byteLimit": 2048000,
      "rowLimit": 10000
     },
     "inputWidgets": {},
     "nuid": "77cd8921-604b-4e26-ad94-10bb045c43fe",
     "showTitle": false,
     "title": ""
    }
   },
   "outputs": [],
   "source": [
    "class AirpodsAfterIphoneWorkFlow:\n",
    "    \"\"\"\n",
    "    ETL pipeline to generate details of customers who have bought Airpods just after iPhone\n",
    "    \"\"\"\n",
    "    def __init__(self):\n",
    "        pass\n",
    "\n",
    "    def runner(self):\n",
    "        \n",
    "        # Step 1: Extract all required data from different sources\n",
    "        inputDFs = AirpodsAfterIphoneExtractor().extract()\n",
    "\n",
    "        # Step 2: Implement the Transformation logic\n",
    "        # Customers who have bought Airpods immediately after buying the iPhone\n",
    "        firstTransformedDF = AirpodsAfterIphone().transform(inputDFs)\n",
    "\n",
    "        # Step 3: Load all required data from different sinks\n",
    "        AirpodsAfterIphoneLoader(firstTransformedDF).sink()\n"
   ]
  },
  {
   "cell_type": "code",
   "execution_count": 0,
   "metadata": {
    "application/vnd.databricks.v1+cell": {
     "cellMetadata": {
      "byteLimit": 2048000,
      "rowLimit": 10000
     },
     "inputWidgets": {},
     "nuid": "2dcf3fcd-062a-4513-83f2-aab366d4eedf",
     "showTitle": false,
     "title": ""
    }
   },
   "outputs": [],
   "source": [
    "class OnlyAirpodsAfterIphoneWorkFlow:\n",
    "    \"\"\"\n",
    "    ETL pipeline to generate details of customers who have bought both Airpods and iPhone only\n",
    "    \"\"\"\n",
    "    def __init__(self):\n",
    "        pass\n",
    "\n",
    "    def runner(self):\n",
    "        \n",
    "        # Step 1: Extract all required data from different sources\n",
    "        inputDFs = AirpodsAfterIphoneExtractor().extract()\n",
    "\n",
    "        # Step 2: Implement the Transformation logic\n",
    "        # Customers who have bought both Airpods and iPhone\n",
    "        secondTransformedDF = OnlyAirpodsAfterIphone().transform(inputDFs)\n",
    "\n",
    "        # Step 3: Load all required data from different sinks\n",
    "        OnlyAirpodsAndIphoneLoader(secondTransformedDF).sink()\n"
   ]
  },
  {
   "cell_type": "code",
   "execution_count": 0,
   "metadata": {
    "application/vnd.databricks.v1+cell": {
     "cellMetadata": {
      "byteLimit": 2048000,
      "rowLimit": 10000
     },
     "inputWidgets": {},
     "nuid": "dc233092-e8ea-4a54-b6f7-9abd2c2e113c",
     "showTitle": false,
     "title": ""
    }
   },
   "outputs": [],
   "source": [
    "class ProductsAfterInitialPurchaseWorkFlow:\n",
    "    \"\"\"\n",
    "    ETL pipeline to generate details of products bought by customers after their initial purchase\n",
    "    \"\"\"\n",
    "    def __init__(self):\n",
    "        pass\n",
    "\n",
    "    def runner(self):\n",
    "        \n",
    "        # Step 1: Extract all required data from different sources\n",
    "        inputDFs = AirpodsAfterIphoneExtractor().extract()\n",
    "\n",
    "        # Step 2: Implement the Transformation logic\n",
    "        # List all products bought by customers after their initial purchase\n",
    "        thirdtransformedDF = ProductsAfterInitialPurchase().transform(inputDFs)\n",
    "\n",
    "        # Step 3: Load all required data from different sinks\n",
    "        ProductsAfterInitialPurchaseLoader(thirdtransformedDF).sink()\n"
   ]
  },
  {
   "cell_type": "code",
   "execution_count": 0,
   "metadata": {
    "application/vnd.databricks.v1+cell": {
     "cellMetadata": {
      "byteLimit": 2048000,
      "rowLimit": 10000
     },
     "inputWidgets": {},
     "nuid": "fb044cd0-4b19-4512-b3cc-c2a07449bd68",
     "showTitle": false,
     "title": ""
    }
   },
   "outputs": [],
   "source": [
    "class AirpodsPurchaseDelayWorkFlow:\n",
    "    \"\"\"\n",
    "    ETL pipeline to generate the average time delay for customers who bought AirPods after purchasing an iPhone.\n",
    "    \"\"\"\n",
    "    def __init__(self):\n",
    "        pass\n",
    "\n",
    "    def runner(self):\n",
    "\n",
    "        # Step 1: Extract all required data from different sources\n",
    "        inputDFs = AirpodsAfterIphoneExtractor().extract()\n",
    "\n",
    "        # Step 2: Implement the Transformation logic\n",
    "        # Calculate the average time delay between iPhone and AirPods purchases\n",
    "        fourthtransformedDF = AirpodsPurchaseDelayTransformer().transform(inputDFs)\n",
    "\n",
    "        # Step 3: Load all required data from different sinks\n",
    "        AirpodsPurchaseDelayLoader(fourthtransformedDF).sink()"
   ]
  },
  {
   "cell_type": "code",
   "execution_count": 0,
   "metadata": {
    "application/vnd.databricks.v1+cell": {
     "cellMetadata": {
      "byteLimit": 2048000,
      "rowLimit": 10000
     },
     "inputWidgets": {},
     "nuid": "46df4061-9a10-42f7-8bea-fe2492ea1aa1",
     "showTitle": false,
     "title": ""
    }
   },
   "outputs": [
    {
     "output_type": "stream",
     "name": "stdout",
     "output_type": "stream",
     "text": [
      "+--------------+-----------+------------+----------------+\n|transaction_id|customer_id|product_name|transaction_date|\n+--------------+-----------+------------+----------------+\n|            11|        105|      iPhone|      2022-02-01|\n|            14|        105|     AirPods|      2022-02-04|\n|            18|        105|     MacBook|      2022-02-08|\n|            12|        106|      iPhone|      2022-02-02|\n|            16|        106|     MacBook|      2022-02-06|\n|            20|        106|     AirPods|      2022-02-10|\n|            13|        107|     AirPods|      2022-02-03|\n|            17|        107|      iPhone|      2022-02-07|\n|            15|        108|      iPhone|      2022-02-05|\n|            19|        108|     AirPods|      2022-02-09|\n+--------------+-----------+------------+----------------+\n\n+-----------+--------------------+---------------------+\n|customer_id|iphone_purchase_date|airpods_purchase_date|\n+-----------+--------------------+---------------------+\n|        105|          2022-02-01|           2022-02-04|\n|        106|          2022-02-02|           2022-02-10|\n|        108|          2022-02-05|           2022-02-09|\n+-----------+--------------------+---------------------+\n\n+--------------+\n|avg_delay_days|\n+--------------+\n|           5.0|\n+--------------+\n\n"
     ]
    }
   ],
   "source": [
    "class WorkFlowRunner:\n",
    "\n",
    "    def __init__(self, name):\n",
    "        self.name = name\n",
    "\n",
    "    def runner(self):\n",
    "        if self.name == \"firstWorkflow\":\n",
    "            return AirpodsAfterIphoneWorkFlow().runner()\n",
    "        elif self.name == \"secondWorkflow\":\n",
    "            return OnlyAirpodsAfterIphoneWorkFlow().runner()\n",
    "        elif self.name == \"thirdWorkflow\":\n",
    "            return ProductsAfterInitialPurchaseWorkFlow().runner()\n",
    "        elif self.name == \"fourthWorkflow\":\n",
    "            return AirpodsPurchaseDelayWorkFlow().runner()\n",
    "        else:\n",
    "            return ValueError(f\"Not Implemented for {self.name}\")\n",
    "\n",
    "name = \"fourthWorkflow\"\n",
    "\n",
    "workflowRunner = WorkFlowRunner(name).runner()\n"
   ]
  },
  {
   "cell_type": "code",
   "execution_count": 0,
   "metadata": {
    "application/vnd.databricks.v1+cell": {
     "cellMetadata": {
      "byteLimit": 2048000,
      "rowLimit": 10000
     },
     "inputWidgets": {},
     "nuid": "276fae14-452e-4ac1-a0a1-29f934400deb",
     "showTitle": false,
     "title": ""
    }
   },
   "outputs": [],
   "source": [
    "from pyspark.sql import SparkSession\n",
    "\n",
    "spark = SparkSession.builder.appName(\"spark_trial\").getOrCreate()\n",
    "\n",
    "input_df = (\n",
    "    spark.\n",
    "    read.\n",
    "    format(\"csv\").\n",
    "    option(\"header\", True).\n",
    "    load(\"dbfs:/FileStore/tables/Transaction_Updated.csv\")\n",
    ")\n",
    "\n",
    "input_df.show()"
   ]
  }
 ],
 "metadata": {
  "application/vnd.databricks.v1+notebook": {
   "dashboards": [],
   "environmentMetadata": null,
   "language": "python",
   "notebookMetadata": {
    "pythonIndentUnit": 4
   },
   "notebookName": "sales_analysis",
   "widgets": {}
  }
 },
 "nbformat": 4,
 "nbformat_minor": 0
}
