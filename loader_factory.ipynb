{
 "cells": [
  {
   "cell_type": "code",
   "execution_count": 0,
   "metadata": {
    "application/vnd.databricks.v1+cell": {
     "cellMetadata": {
      "byteLimit": 2048000,
      "rowLimit": 10000
     },
     "inputWidgets": {},
     "nuid": "803984d1-56a2-4f2b-9c94-cd8da9c13180",
     "showTitle": false,
     "title": ""
    }
   },
   "outputs": [],
   "source": [
    "class DataSink:\n",
    "    \"\"\"\n",
    "    Abstract Class\n",
    "    \"\"\"\n",
    "\n",
    "    def __init__(self, df, path, method, params):\n",
    "        self.df = df\n",
    "        self.path = path\n",
    "        self.method = method\n",
    "        self.params = params\n",
    "\n",
    "    def load_data_frame(self):\n",
    "        \"\"\"\n",
    "        Abstract method, function will be defined in subclasses\n",
    "        \"\"\"\n",
    "\n",
    "        raise ValeError(\"Not Implemented\")\n",
    "\n",
    "\n",
    "class LoadToDBFS(DataSink):\n",
    "\n",
    "    def load_data_frame(self):\n",
    "        self.df.write.mode(self.method).format(\"parquet\").save(self.path)\n",
    "\n",
    "class LoadToDBFSWithPartition(DataSink):\n",
    "\n",
    "    def load_data_frame(self):\n",
    "\n",
    "        partitionByColumns = self.params.get(\"partitionByColumns\")\n",
    "        self.df.write.mode(self.method).partitionBy(*partitionByColumns).save(self.path)\n",
    "\n",
    "\n",
    "class LoadToDeltaTable(DataSink):\n",
    "\n",
    "    def load_data_frame(self):\n",
    "\n",
    "        self.df.write.format(\"delta\").mode(self.method).saveAsTable(self.path)\n",
    "\n",
    "\n",
    "\n",
    "def get_sink_source(sink_type, df, path, method, params=None):\n",
    "    if sink_type == \"dbfs\":\n",
    "        return LoadToDBFS(df, path, method, params)\n",
    "    elif sink_type == \"dbfs_with_partition\":\n",
    "        return LoadToDBFSWithPartition(df, path, method, params)\n",
    "    elif sink_type == \"delta\":\n",
    "        return LoadToDeltaTable(df, path, method, params)\n",
    "    else:\n",
    "        return ValueError(f\"Not implemented for sink type: {sink_type}\")\n",
    "    \n"
   ]
  }
 ],
 "metadata": {
  "application/vnd.databricks.v1+notebook": {
   "dashboards": [],
   "environmentMetadata": null,
   "language": "python",
   "notebookMetadata": {
    "pythonIndentUnit": 4
   },
   "notebookName": "loader_factory",
   "widgets": {}
  }
 },
 "nbformat": 4,
 "nbformat_minor": 0
}
