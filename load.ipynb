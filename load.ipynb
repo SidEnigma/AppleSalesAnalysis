{
 "cells": [
  {
   "cell_type": "code",
   "execution_count": 0,
   "metadata": {
    "application/vnd.databricks.v1+cell": {
     "cellMetadata": {
      "byteLimit": 2048000,
      "rowLimit": 10000
     },
     "inputWidgets": {},
     "nuid": "f789e543-d3f9-4d85-b26b-e6a35b66932e",
     "showTitle": false,
     "title": ""
    }
   },
   "outputs": [],
   "source": [
    "%run \"./loader_factory\""
   ]
  },
  {
   "cell_type": "code",
   "execution_count": 0,
   "metadata": {
    "application/vnd.databricks.v1+cell": {
     "cellMetadata": {
      "byteLimit": 2048000,
      "rowLimit": 10000
     },
     "inputWidgets": {},
     "nuid": "1012d4dd-93a5-4b9a-ab47-4bf9ca17bfe3",
     "showTitle": false,
     "title": ""
    }
   },
   "outputs": [],
   "source": [
    "class AbstractLoader:\n",
    "    \"\"\"\n",
    "    Abstract class\n",
    "    \"\"\"\n",
    "    def __init__(self, transformedDF):\n",
    "        self.transformedDF = transformedDF\n",
    "    \n",
    "    def sink(self):\n",
    "        pass\n",
    "\n",
    "\n",
    "class AirpodsAfterIphoneLoader(AbstractLoader):\n",
    "\n",
    "    def sink(self):\n",
    "        get_sink_source(\n",
    "            sink_type = \"dbfs\",\n",
    "            df = self.transformedDF,\n",
    "            path = \"dbfs:/FileStore/tables/output/airpodsAfterIphone\",\n",
    "            method = \"overwrite\"\n",
    "        ).load_data_frame()\n",
    "\n",
    "\n",
    "class OnlyAirpodsAndIphoneLoader(AbstractLoader):\n",
    "\n",
    "    def sink(self):\n",
    "        params = {\n",
    "            \"partitionByColumns\": [\"location\"]\n",
    "        }\n",
    "        get_sink_source(\n",
    "            sink_type = \"dbfs_with_partition\",\n",
    "            df = self.transformedDF,\n",
    "            path = \"dbfs:/FileStore/tables/output/airpodsOnlyIphone\",\n",
    "            method = \"overwrite\",\n",
    "            params = params\n",
    "        ).load_data_frame()\n",
    "\n",
    "        get_sink_source(\n",
    "            sink_type = \"delta\",\n",
    "            df = self.transformedDF,\n",
    "            path = \"default.onlyAirpodsAndIphone\",\n",
    "            method = \"overwrite\"\n",
    "        ).load_data_frame()\n",
    "\n",
    "\n",
    "class ProductsAfterInitialPurchaseLoader(AbstractLoader):\n",
    "\n",
    "    def sink(self):\n",
    "        get_sink_source(\n",
    "            sink_type = \"dbfs\",\n",
    "            df = self.transformedDF,\n",
    "            path = \"dbfs:/FileStore/tables/output/productsAfterInitialPurchase\",\n",
    "            method = \"overwrite\"\n",
    "        ).load_data_frame()\n",
    "\n",
    "\n",
    "class AirpodsPurchaseDelayLoader(AbstractLoader):\n",
    "\n",
    "    def sink(self):\n",
    "        get_sink_source(\n",
    "            sink_type = \"dbfs\",\n",
    "            df = self.transformedDF,\n",
    "            path = \"dbfs:/FileStore/tables/output/airpodsPurchaseDelay\",\n",
    "            method = \"overwrite\"\n",
    "        ).load_data_frame()\n",
    "\n"
   ]
  }
 ],
 "metadata": {
  "application/vnd.databricks.v1+notebook": {
   "dashboards": [],
   "environmentMetadata": null,
   "language": "python",
   "notebookMetadata": {
    "pythonIndentUnit": 4
   },
   "notebookName": "load",
   "widgets": {}
  }
 },
 "nbformat": 4,
 "nbformat_minor": 0
}
